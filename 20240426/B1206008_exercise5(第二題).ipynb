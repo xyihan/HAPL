{
  "cells": [
    {
      "cell_type": "code",
      "execution_count": null,
      "metadata": {
        "colab": {
          "base_uri": "https://localhost:8080/"
        },
        "id": "lcM3126sgNlp",
        "outputId": "b54f7f7c-b5c8-4546-cdd6-b033d4fe8630"
      },
      "outputs": [
        {
          "output_type": "stream",
          "name": "stdout",
          "text": [
            "答案： [2, 5, 1, 9]\n",
            "請輸入四位數字（數字不重複）12345\n",
            "輸入字數過多，輸入四位數字（數字不重複）\n",
            "請輸入四位數字（數字不重複）2196\n",
            "2196:1A2B\n",
            "請輸入四位數字（數字不重複）2915\n",
            "2915:2A2B\n",
            "請輸入四位數字（數字不重複）2159\n",
            "2159:2A2B\n",
            "請輸入四位數字（數字不重複）2519\n",
            "2519:4A0B\n",
            "答對了！總共猜了4次\n"
          ]
        }
      ],
      "source": [
        "import random\n",
        "answer=random.sample(range(1,10),4)\n",
        "print(\"答案：\",answer)\n",
        "a=0\n",
        "b=0\n",
        "n=0\n",
        "num=0\n",
        "user_input=list(input(\"請輸入四位數字（數字不重複）\"))\n",
        "if len(user_input)!=4:\n",
        " print(\"輸入字數過多，輸入四位數字（數字不重複）\")\n",
        "a=0\n",
        "num=0\n",
        "while a!=4:\n",
        "  num+=1\n",
        "  a=b=n=0\n",
        "  user_input=list(input(\"請輸入四位數字（數字不重複）\"))\n",
        "\n",
        "  for i in user_input:\n",
        "    if int(user_input[n])==answer[n]:\n",
        "       a+=1\n",
        "    else:\n",
        "     if int(i) in answer:\n",
        "        b+=1\n",
        "    n+=1\n",
        "  output=','.join(user_input).replace(',','')\n",
        "  print(f'{output}:{a}A{b}B')\n",
        "print(f'答對了！總共猜了{num}次')\n",
        "\n",
        "\n",
        "\n"
      ]
    }
  ],
  "metadata": {
    "colab": {
      "provenance": []
    },
    "kernelspec": {
      "display_name": "Python 3",
      "name": "python3"
    },
    "language_info": {
      "name": "python"
    }
  },
  "nbformat": 4,
  "nbformat_minor": 0
}