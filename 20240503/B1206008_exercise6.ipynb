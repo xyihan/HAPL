{
  "nbformat": 4,
  "nbformat_minor": 0,
  "metadata": {
    "colab": {
      "provenance": []
    },
    "kernelspec": {
      "name": "python3",
      "display_name": "Python 3"
    },
    "language_info": {
      "name": "python"
    }
  },
  "cells": [
    {
      "cell_type": "code",
      "source": [
        "def calculate(x,y):\n",
        "   z=y/(x*0.01)**2\n",
        "   return z\n",
        "def BMI(z):\n",
        "  if z<18.5:\n",
        "   return'體位:過輕'\n",
        "  elif 18.5<=z<24:\n",
        "   return'體位:適中'\n",
        "  elif 24<=z<27:\n",
        "   return'體位;過重'\n",
        "  else:\n",
        "   return'體位:肥胖'\n",
        "try:\n",
        "  x=float(input(\"請輸入身高（cm)\"))\n",
        "  y=float(input(\"請輸入體重（kg)\"))\n",
        "  z=calculate(x,y)\n",
        "  print(\"BMI:\",z)\n",
        "  print(BMI(z))\n",
        "except:\n",
        "  print('輸入內容錯誤')"
      ],
      "metadata": {
        "colab": {
          "base_uri": "https://localhost:8080/"
        },
        "id": "-3eTgAzOAkIG",
        "outputId": "28a174b9-014d-4a1d-e66c-db993c67661c"
      },
      "execution_count": null,
      "outputs": [
        {
          "output_type": "stream",
          "name": "stdout",
          "text": [
            "請輸入身高（cm)160\n",
            "請輸入體重（kg)C\n",
            "輸入內容錯誤\n"
          ]
        }
      ]
    },
    {
      "cell_type": "code",
      "source": [
        "x=int(input('聖誕樹層數:'))\n",
        "def output(x):\n",
        "  for i in range(x+1):\n",
        "    print(' '*((x+1)-i)+'*'*(2*i-1))\n",
        "  for j in range(5):\n",
        "    y='***'\n",
        "    print(' '*int((2*x-1-3)/2),y)\n",
        "output(x)"
      ],
      "metadata": {
        "colab": {
          "base_uri": "https://localhost:8080/"
        },
        "id": "ZuxQhsOVGGJM",
        "outputId": "0239a806-2458-456c-b86f-4781e7c48fc1"
      },
      "execution_count": null,
      "outputs": [
        {
          "output_type": "stream",
          "name": "stdout",
          "text": [
            "聖誕樹層數:10\n",
            "           \n",
            "          *\n",
            "         ***\n",
            "        *****\n",
            "       *******\n",
            "      *********\n",
            "     ***********\n",
            "    *************\n",
            "   ***************\n",
            "  *****************\n",
            " *******************\n",
            "         ***\n",
            "         ***\n",
            "         ***\n",
            "         ***\n",
            "         ***\n"
          ]
        }
      ]
    }
  ]
}