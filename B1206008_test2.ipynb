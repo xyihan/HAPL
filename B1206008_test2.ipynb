{
  "nbformat": 4,
  "nbformat_minor": 0,
  "metadata": {
    "colab": {
      "provenance": []
    },
    "kernelspec": {
      "name": "python3",
      "display_name": "Python 3"
    },
    "language_info": {
      "name": "python"
    }
  },
  "cells": [
    {
      "cell_type": "code",
      "execution_count": null,
      "metadata": {
        "colab": {
          "base_uri": "https://localhost:8080/"
        },
        "id": "uCdlqS4m0YjD",
        "outputId": "0f736d7f-e5bb-46c2-83c6-4e7d35a0496b"
      },
      "outputs": [
        {
          "output_type": "stream",
          "name": "stdout",
          "text": [
            "495\n"
          ]
        }
      ],
      "source": [
        "x=2\n",
        "y=1\n",
        "print((2*x+y)*(100-y))"
      ]
    },
    {
      "cell_type": "code",
      "source": [
        "y=4\n",
        "print(100/(2*y+1))"
      ],
      "metadata": {
        "colab": {
          "base_uri": "https://localhost:8080/"
        },
        "id": "hbR2WQUQ13hb",
        "outputId": "ef8ccdfe-01c2-4f13-e180-db39f23b1b6c"
      },
      "execution_count": null,
      "outputs": [
        {
          "output_type": "stream",
          "name": "stdout",
          "text": [
            "11.11111111111111\n"
          ]
        }
      ]
    }
  ]
}