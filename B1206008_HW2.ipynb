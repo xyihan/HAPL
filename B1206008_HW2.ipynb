{
  "nbformat": 4,
  "nbformat_minor": 0,
  "metadata": {
    "colab": {
      "provenance": []
    },
    "kernelspec": {
      "name": "python3",
      "display_name": "Python 3"
    },
    "language_info": {
      "name": "python"
    }
  },
  "cells": [
    {
      "cell_type": "code",
      "execution_count": null,
      "metadata": {
        "colab": {
          "base_uri": "https://localhost:8080/"
        },
        "id": "C8vw2ShCtTDy",
        "outputId": "600c21af-c699-4889-c9f3-b081d3394fc3"
      },
      "outputs": [
        {
          "output_type": "stream",
          "name": "stdout",
          "text": [
            "A\n",
            "['K', 'H', 'U']\n"
          ]
        }
      ],
      "source": [
        "a='C,B,A'\n",
        "b=['F','G','H']\n",
        "c=a.split(',')\n",
        "d=c+b\n",
        "d[0]='K'\n",
        "e=d.pop(2)\n",
        "print(e)\n",
        "del d[1:4]\n",
        "d.append('U')\n",
        "print(d)\n"
      ]
    },
    {
      "cell_type": "code",
      "source": [
        "x=str(input(\"請輸入八位數\"))\n",
        "print(x[4])\n"
      ],
      "metadata": {
        "colab": {
          "base_uri": "https://localhost:8080/"
        },
        "id": "ZgNr8k_g4CTg",
        "outputId": "a27e5ca4-635b-4094-d092-5bf409e9f83a"
      },
      "execution_count": null,
      "outputs": [
        {
          "output_type": "stream",
          "name": "stdout",
          "text": [
            "請輸入八位數12345678\n",
            "5\n"
          ]
        }
      ]
    },
    {
      "cell_type": "code",
      "source": [
        "x='MY ID is B1206008'\n",
        "y=x.split(' ')\n",
        "print(len(y))\n",
        "print(len(y[3]))"
      ],
      "metadata": {
        "colab": {
          "base_uri": "https://localhost:8080/"
        },
        "id": "UCPMH78k8C6f",
        "outputId": "d48e3803-ccd8-4b62-faaa-312bc7abc248"
      },
      "execution_count": null,
      "outputs": [
        {
          "output_type": "stream",
          "name": "stdout",
          "text": [
            "4\n",
            "8\n"
          ]
        }
      ]
    },
    {
      "cell_type": "code",
      "source": [
        "x=\"I'm a student.\"\n",
        "y=x.split(' ')\n",
        "print(y[0][2])"
      ],
      "metadata": {
        "id": "ELgPiB4t64ae",
        "colab": {
          "base_uri": "https://localhost:8080/"
        },
        "outputId": "ec3d93ee-eae9-4e9e-dc95-55b86516a2de"
      },
      "execution_count": null,
      "outputs": [
        {
          "output_type": "stream",
          "name": "stdout",
          "text": [
            "m\n"
          ]
        }
      ]
    }
  ]
}