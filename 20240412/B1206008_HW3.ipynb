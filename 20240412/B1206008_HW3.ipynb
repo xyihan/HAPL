{
  "nbformat": 4,
  "nbformat_minor": 0,
  "metadata": {
    "colab": {
      "provenance": []
    },
    "kernelspec": {
      "name": "python3",
      "display_name": "Python 3"
    },
    "language_info": {
      "name": "python"
    }
  },
  "cells": [
    {
      "cell_type": "code",
      "execution_count": 4,
      "metadata": {
        "colab": {
          "base_uri": "https://localhost:8080/"
        },
        "id": "wCulPkBGAzyD",
        "outputId": "00716233-0c42-4d00-e238-0468a2fedeb7"
      },
      "outputs": [
        {
          "output_type": "stream",
          "name": "stdout",
          "text": [
            "請輸入年分1200\n",
            "閏年\n"
          ]
        }
      ],
      "source": [
        "a=int(input('請輸入年分'))\n",
        "if a<=1582:\n",
        "  if a%4==0:\n",
        "    print('閏年')\n",
        "  else:\n",
        "    print('平年')\n",
        "else:\n",
        "  if a%4==0:\n",
        "    if a%100==0:\n",
        "      if a%400==0:\n",
        "        print('閏年')\n",
        "      else:\n",
        "        print('平年')\n",
        "    else:\n",
        "      print('閏年')\n",
        "  else:\n",
        "    print('平年')\n",
        "\n",
        "\n",
        "\n",
        "\n",
        "\n"
      ]
    },
    {
      "cell_type": "code",
      "source": [],
      "metadata": {
        "id": "kkQSFplGhuFM"
      },
      "execution_count": null,
      "outputs": []
    }
  ]
}