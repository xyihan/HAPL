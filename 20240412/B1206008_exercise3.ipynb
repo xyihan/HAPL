{
  "nbformat": 4,
  "nbformat_minor": 0,
  "metadata": {
    "colab": {
      "provenance": []
    },
    "kernelspec": {
      "name": "python3",
      "display_name": "Python 3"
    },
    "language_info": {
      "name": "python"
    }
  },
  "cells": [
    {
      "cell_type": "code",
      "execution_count": null,
      "metadata": {
        "id": "4Axt0WPe0Bh-"
      },
      "outputs": [],
      "source": []
    },
    {
      "cell_type": "code",
      "source": [
        "x=float(input(\"請輸入身高（cm)\"))\n",
        "y=float(input(\"請輸入體重(kg)\"))\n",
        "BMI=((y/(x*0.01)**2))\n",
        "print('BMI:',BMI)\n",
        "if BMI<18.5:\n",
        "  print('體位:過輕')\n",
        "elif 18.5<=BMI<24:\n",
        "  print('體位:適中')\n",
        "elif 24<=BMI<27:\n",
        "  print('體位;過重')\n",
        "else:\n",
        "  print('體位:肥胖')\n",
        "\n"
      ],
      "metadata": {
        "id": "8yX8vabMv8PF",
        "colab": {
          "base_uri": "https://localhost:8080/"
        },
        "outputId": "2c69f732-e839-4f67-9bea-c96aff41ca07"
      },
      "execution_count": 20,
      "outputs": [
        {
          "output_type": "stream",
          "name": "stdout",
          "text": [
            "請輸入身高（cm)162\n",
            "請輸入體重(kg)60\n",
            "BMI: 22.86236854138088\n",
            "體位:適中\n"
          ]
        }
      ]
    },
    {
      "cell_type": "code",
      "source": [
        "a=float(input('請輸入第一個數字'))\n",
        "b=(input('請輸入運算符號'))\n",
        "c=float(input('請輸入第二個數字'))\n",
        "if b=='+':\n",
        "  print(a+c)\n",
        "elif b=='-':\n",
        "  print(a-c)\n",
        "elif b=='*':\n",
        "  print(a*c)\n",
        "else:\n",
        "  print(a/c)"
      ],
      "metadata": {
        "colab": {
          "base_uri": "https://localhost:8080/"
        },
        "id": "urAjh3n35Bx_",
        "outputId": "d868d876-b79c-46a5-9111-5f068c525eb0"
      },
      "execution_count": 17,
      "outputs": [
        {
          "output_type": "stream",
          "name": "stdout",
          "text": [
            "請輸入第一個數字5\n",
            "請輸入運算符號/\n",
            "請輸入第二個數字9\n",
            "0.5555555555555556\n"
          ]
        }
      ]
    }
  ]
}