{
  "nbformat": 4,
  "nbformat_minor": 0,
  "metadata": {
    "colab": {
      "provenance": []
    },
    "kernelspec": {
      "name": "python3",
      "display_name": "Python 3"
    },
    "language_info": {
      "name": "python"
    }
  },
  "cells": [
    {
      "cell_type": "code",
      "execution_count": 23,
      "metadata": {
        "colab": {
          "base_uri": "https://localhost:8080/"
        },
        "id": "L3Dpu3iWwLXo",
        "outputId": "484e2363-8087-4aef-9131-e19d3bb9e5c5"
      },
      "outputs": [
        {
          "output_type": "stream",
          "name": "stdout",
          "text": [
            "{'姓名': '夏翊涵', '姓別': '女', '作業分數': [100, 100, 90], '學號': 'B1206008'}\n",
            "96.66666666666667\n"
          ]
        }
      ],
      "source": [
        "a=dict(姓名='夏翊涵',姓別='女',作業分數=[80,95,100,90])\n",
        "a['學號']='B1206008'\n",
        "a['作業分數'][1]=100\n",
        "b=a['作業分數'].pop(0)\n",
        "print(a)\n",
        "c=a.get('作業分數')\n",
        "x=c[0]\n",
        "y=c[1]\n",
        "z=c[2]\n",
        "print((x+y+z)/3)\n",
        "\n"
      ]
    }
  ]
}