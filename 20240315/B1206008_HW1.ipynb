{
  "nbformat": 4,
  "nbformat_minor": 0,
  "metadata": {
    "colab": {
      "provenance": []
    },
    "kernelspec": {
      "name": "python3",
      "display_name": "Python 3"
    },
    "language_info": {
      "name": "python"
    }
  },
  "cells": [
    {
      "cell_type": "code",
      "execution_count": null,
      "metadata": {
        "colab": {
          "base_uri": "https://localhost:8080/"
        },
        "id": "MEryDz1bOpfQ",
        "outputId": "82eb2757-289b-489a-870a-1781b7447170"
      },
      "outputs": [
        {
          "output_type": "stream",
          "name": "stdout",
          "text": [
            "I'm a student\n"
          ]
        }
      ],
      "source": [
        "print(\"I'm a student\")"
      ]
    },
    {
      "cell_type": "code",
      "source": [
        "x1=float(input('請輸入一個數字'))\n",
        "x2=float(input('請輸入一個數字'))\n",
        "y1=float(input('請輸入一個數字'))\n",
        "y2=float(input('請輸入一個數字'))\n",
        "AB=((x2-x1)**2+(y2-y1)**2)**0.5\n",
        "print(AB)"
      ],
      "metadata": {
        "colab": {
          "base_uri": "https://localhost:8080/"
        },
        "id": "tLjsvW58Ps7M",
        "outputId": "12c0b10c-71e4-4cda-eb10-8df026672abd"
      },
      "execution_count": null,
      "outputs": [
        {
          "output_type": "stream",
          "name": "stdout",
          "text": [
            "請輸入一個數字3.4\n",
            "請輸入一個數字2.4\n",
            "請輸入一個數字5.5\n",
            "請輸入一個數字4.3\n",
            "1.562049935181331\n"
          ]
        }
      ]
    },
    {
      "cell_type": "code",
      "source": [
        "x=float(input(\"請輸入身高（cm\"))\n",
        "y=float(input(\"請輸入體重(kg)\"))\n",
        "BMI=((y/(x*0.01)**2))\n",
        "print(BMI)\n"
      ],
      "metadata": {
        "id": "8yX8vabMv8PF",
        "colab": {
          "base_uri": "https://localhost:8080/"
        },
        "outputId": "dd5bd520-fdb5-4749-9960-cd85628a2d15"
      },
      "execution_count": null,
      "outputs": [
        {
          "output_type": "stream",
          "name": "stdout",
          "text": [
            "請輸入身高（cm155\n",
            "請輸入體重(kg)52\n",
            "21.64412070759625\n"
          ]
        }
      ]
    }
  ]
}